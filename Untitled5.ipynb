{
 "cells": [
  {
   "cell_type": "code",
   "execution_count": 1,
   "metadata": {},
   "outputs": [],
   "source": [
    "#!pip install ipyleaflet"
   ]
  },
  {
   "cell_type": "code",
   "execution_count": 2,
   "metadata": {},
   "outputs": [
    {
     "name": "stdout",
     "output_type": "stream",
     "text": [
      "Enabling notebook extension jupyter-leaflet/extension...\n",
      "      - Validating: \u001b[32mOK\u001b[0m\n"
     ]
    }
   ],
   "source": [
    "!jupyter nbextension enable --py --sys-prefix ipyleaflet"
   ]
  },
  {
   "cell_type": "code",
   "execution_count": 8,
   "metadata": {},
   "outputs": [
    {
     "data": {
      "application/vnd.jupyter.widget-view+json": {
       "model_id": "da5158363ef440049af5c73cb57b563d",
       "version_major": 2,
       "version_minor": 0
      },
      "text/plain": [
       "Map(basemap={'url': 'https://{s}.tile.openstreetmap.org/{z}/{x}/{y}.png', 'max_zoom': 19, 'attribution': 'Map …"
      ]
     },
     "metadata": {},
     "output_type": "display_data"
    }
   ],
   "source": [
    "from ipywidgets import HTML\n",
    "from ipyleaflet import (Map,DrawControl,Marker,Popup)\n",
    "#myMap=Map(center=[07.58083333333333, 07.025555555555556],zoom=9)\n",
    "\n",
    "center=[0.0,0.0]\n",
    "myMap=Map(center=[0.0, 0.0],zoom=2)\n",
    "marker=Marker(location=(9.072264,7.491302))\n",
    "message1=HTML(value=\n",
    "              \"<img src='https://media.gettyimages.com/photos/abuja-national-mosque-picture-id175758655?s=2048x2048' width='220' height='190'><br/>\\\n",
    "               <b>My City: Abuja, Nigeria </b>\"\\\n",
    "               \"<br/>highest recorded temperature: 43°C(110°F)\"\\\n",
    "               \"<br/>lowest recorded temperature: 15°C(59°F)\"\\\n",
    "              \"<br/><a href='https://en.wikipedia.org/wiki/Abuja'>More facts about Abuja</a>\")\n",
    "#message.value = \"ABUJA, Nigeria\"\n",
    "#message.placeholder = \"Some HTML\"\n",
    "#message.description = \"Location:\"\n",
    "\n",
    "# Popup with a given location on the \n",
    "popup = Popup(\n",
    "    close_button=False,\n",
    "    auto_close=False,\n",
    "    close_on_escape_key=False\n",
    ")\n",
    "\n",
    "# Popup associated to a layer\n",
    "#marker.popup = message\n",
    "marker.popup=message1\n",
    "dc=DrawControl(circle={'shapeOptions':{'color':'#0000FF'}})\n",
    "myMap.add_control(dc)\n",
    "myMap.add_layer(marker)\n",
    "myMap"
   ]
  },
  {
   "cell_type": "code",
   "execution_count": 4,
   "metadata": {
    "scrolled": false
   },
   "outputs": [
    {
     "data": {
      "text/html": [
       "<div style=\"width:100%;\"><div style=\"position:relative;width:100%;height:0;padding-bottom:60%;\"><iframe src=\"data:text/html;charset=utf-8;base64,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\" style=\"position:absolute;width:100%;height:100%;left:0;top:0;border:none !important;\" allowfullscreen webkitallowfullscreen mozallowfullscreen></iframe></div></div>"
      ],
      "text/plain": [
       "<folium.folium.Map at 0x10ed41cc0>"
      ]
     },
     "execution_count": 4,
     "metadata": {},
     "output_type": "execute_result"
    }
   ],
   "source": [
    "#using folium\n",
    "import folium\n",
    "from folium import Html\n",
    "from folium import IFrame\n",
    "center=[0.0,0.0]\n",
    "myMap=folium.Map([0.0, 0.0],zoom_start=2,control_scale=True)\n",
    "#marker=folium.Marker([9.072264,7.491302],popup=message1)\n",
    "Html=\"\"\"\n",
    "    <!doctype html>\n",
    "    <html>           \n",
    "    <img src='https://media.gettyimages.com/photos/abuja-national-mosque-picture-id175758655?s=2048x2048' width='220' height='190'>\n",
    "    <br/><b>My City: Abuja, Nigeria </b><br/>highest recorded temperature: 43°C(110°F)\n",
    "    <br/>lowest recorded temperature: 15°C(59°F)\n",
    "    <br/><a href='https://en.wikipedia.org/wiki/Abuja'>More facts about Abuja</a>\n",
    "    </html>\n",
    "     \"\"\"\n",
    "iframe = folium.IFrame(html=Html, width=270, height=270)\n",
    "popup = folium.Popup(iframe, max_width=2650)\n",
    "# Popup with a given location \n",
    "marker=folium.Marker([9.072264,7.491302],popup=popup,icon=folium.Icon(color='red',icon='home'))\n",
    "marker.add_to(myMap)\n",
    "myMap.save('abjMap.html')\n",
    "myMap\n",
    "#help(folium.Html)"
   ]
  },
  {
   "cell_type": "code",
   "execution_count": null,
   "metadata": {},
   "outputs": [],
   "source": []
  }
 ],
 "metadata": {
  "kernelspec": {
   "display_name": "Python 3",
   "language": "python",
   "name": "python3"
  },
  "language_info": {
   "codemirror_mode": {
    "name": "ipython",
    "version": 3
   },
   "file_extension": ".py",
   "mimetype": "text/x-python",
   "name": "python",
   "nbconvert_exporter": "python",
   "pygments_lexer": "ipython3",
   "version": "3.6.7"
  }
 },
 "nbformat": 4,
 "nbformat_minor": 2
}
